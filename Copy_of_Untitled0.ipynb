{
  "nbformat": 4,
  "nbformat_minor": 0,
  "metadata": {
    "colab": {
      "name": "Copy of Untitled0.ipynb",
      "provenance": [],
      "authorship_tag": "ABX9TyOLQnvnmFxnQG3s+X1+Ajj3",
      "include_colab_link": true
    },
    "kernelspec": {
      "name": "python3",
      "display_name": "Python 3"
    }
  },
  "cells": [
    {
      "cell_type": "markdown",
      "metadata": {
        "id": "view-in-github",
        "colab_type": "text"
      },
      "source": [
        "<a href=\"https://colab.research.google.com/github/AshleySiles/pydata-book/blob/2nd-edition/Copy_of_Untitled0.ipynb\" target=\"_parent\"><img src=\"https://colab.research.google.com/assets/colab-badge.svg\" alt=\"Open In Colab\"/></a>"
      ]
    },
    {
      "cell_type": "markdown",
      "metadata": {
        "id": "z78JmAImpBz_",
        "colab_type": "text"
      },
      "source": [
        "<h1>Lists and Dictionaries</h1>\n",
        "\n",
        "**LISTAS**\n",
        "\n",
        "las listas son solo lugares para recolectar otros objetos para que pueda tratar\n",
        "ellos como grupos.\n",
        "\n",
        "**operaciones basicas de las listas**\n",
        "\n",
        "las listas, admiten muchas  de las mismas operacines que las cadenas, por ejemplo al usar + y * significan lo mismo pero el resultado puede variar.\n",
        "\n"
      ]
    },
    {
      "cell_type": "markdown",
      "metadata": {
        "id": "N-NiOtjq3CQU",
        "colab_type": "text"
      },
      "source": [
        "\n",
        "* longitud\n",
        "\n"
      ]
    },
    {
      "cell_type": "code",
      "metadata": {
        "id": "tcGU-oiU35jL",
        "colab_type": "code",
        "outputId": "dca77473-a7ca-4733-9866-2547f60cb7f6",
        "colab": {
          "base_uri": "https://localhost:8080/",
          "height": 34
        }
      },
      "source": [
        "([1,2,3,4,5])"
      ],
      "execution_count": 0,
      "outputs": [
        {
          "output_type": "execute_result",
          "data": {
            "text/plain": [
              "[1, 2, 3, 4, 5]"
            ]
          },
          "metadata": {
            "tags": []
          },
          "execution_count": 21
        }
      ]
    },
    {
      "cell_type": "markdown",
      "metadata": {
        "id": "X3wk9pQ34S4q",
        "colab_type": "text"
      },
      "source": [
        "\n",
        "*  encadenamiento\n",
        "\n"
      ]
    },
    {
      "cell_type": "code",
      "metadata": {
        "id": "z2fg8tuw4gWB",
        "colab_type": "code",
        "outputId": "12ab5bcf-19c3-40dc-85e4-3a1beb0fd9fb",
        "colab": {
          "base_uri": "https://localhost:8080/",
          "height": 34
        }
      },
      "source": [
        "[12,13,14,15]+[21,31,41,51]"
      ],
      "execution_count": 0,
      "outputs": [
        {
          "output_type": "execute_result",
          "data": {
            "text/plain": [
              "[12, 13, 14, 15, 21, 31, 41, 51]"
            ]
          },
          "metadata": {
            "tags": []
          },
          "execution_count": 24
        }
      ]
    },
    {
      "cell_type": "markdown",
      "metadata": {
        "id": "egMmWC3q4yg3",
        "colab_type": "text"
      },
      "source": [
        "\n",
        "*   repeticion \n",
        "\n"
      ]
    },
    {
      "cell_type": "code",
      "metadata": {
        "id": "C8bsVcWi465r",
        "colab_type": "code",
        "outputId": "db41876a-1ba4-40d8-eeb4-7e99e6901a93",
        "colab": {
          "base_uri": "https://localhost:8080/",
          "height": 34
        }
      },
      "source": [
        "[23]*5"
      ],
      "execution_count": 0,
      "outputs": [
        {
          "output_type": "execute_result",
          "data": {
            "text/plain": [
              "[23, 23, 23, 23, 23]"
            ]
          },
          "metadata": {
            "tags": []
          },
          "execution_count": 25
        }
      ]
    },
    {
      "cell_type": "markdown",
      "metadata": {
        "id": "XbEg0PSD8Yxg",
        "colab_type": "text"
      },
      "source": [
        "es necesario cambiar la lista a cadena o viceversa cuando queramos concatenar una lista y una cadena.\n",
        "la función integrada de la lista hace el truco:"
      ]
    },
    {
      "cell_type": "code",
      "metadata": {
        "id": "ip_Coa_O872f",
        "colab_type": "code",
        "colab": {}
      },
      "source": [
        "str([1,2,3,4])+ \"54\"\n",
        "[1,2,3,4]+list(\"54\")\n"
      ],
      "execution_count": 0,
      "outputs": []
    },
    {
      "cell_type": "markdown",
      "metadata": {
        "id": "r8w8v_145Kuc",
        "colab_type": "text"
      },
      "source": [
        "**List Iteration and Comprehensions**\n",
        "\n",
        "las listas responden aos las operaciones de secuencia  que usamos tambien en la cadenas, incluyendo heramientas de interaccion, como estos:\n",
        "\n",
        "\n",
        "\n",
        "*   membership\n",
        "\n",
        "\n"
      ]
    },
    {
      "cell_type": "code",
      "metadata": {
        "id": "GPzIDMF26-KR",
        "colab_type": "code",
        "colab": {}
      },
      "source": [
        "7 in[2,3,4,5,6]"
      ],
      "execution_count": 0,
      "outputs": []
    },
    {
      "cell_type": "code",
      "metadata": {
        "id": "xZgkjDLw7TnE",
        "colab_type": "code",
        "colab": {}
      },
      "source": [
        "3 in[1,2,3,4]"
      ],
      "execution_count": 0,
      "outputs": []
    },
    {
      "cell_type": "markdown",
      "metadata": {
        "id": "sL8mQm5e7Zc-",
        "colab_type": "text"
      },
      "source": [
        "\n",
        "\n",
        "las comprensiones de listas son una forma de construir una nueva lista\n",
        "aplicando una expresión a cada elemento en una secuencia \n",
        "\n"
      ]
    },
    {
      "cell_type": "code",
      "metadata": {
        "id": "2w1tLMFcAlyx",
        "colab_type": "code",
        "colab": {}
      },
      "source": [
        "[t * 3  for t in 'hola']\n"
      ],
      "execution_count": 0,
      "outputs": []
    },
    {
      "cell_type": "code",
      "metadata": {
        "id": "ciM0SMaJCDvm",
        "colab_type": "code",
        "colab": {}
      },
      "source": [
        "res=[]\n",
        "for t in 'hola':\n",
        "       res.append(t *3)\n",
        "       res"
      ],
      "execution_count": 0,
      "outputs": []
    },
    {
      "cell_type": "markdown",
      "metadata": {
        "id": "cHPBS1jbBxyt",
        "colab_type": "text"
      },
      "source": [
        "**el mapa** aplica una funcion a los elementos en una secuencia y recopila todos los resultados en una nueva lista."
      ]
    },
    {
      "cell_type": "code",
      "metadata": {
        "id": "7pWgwFAnD-hw",
        "colab_type": "code",
        "outputId": "c4ac5317-c2ee-4946-a319-e475cd44dbfd",
        "colab": {
          "base_uri": "https://localhost:8080/",
          "height": 34
        }
      },
      "source": [
        "list(map(abs,[3,2,1,0,-1,-2,-3]))"
      ],
      "execution_count": 0,
      "outputs": [
        {
          "output_type": "execute_result",
          "data": {
            "text/plain": [
              "[3, 2, 1, 0, 1, 2, 3]"
            ]
          },
          "metadata": {
            "tags": []
          },
          "execution_count": 57
        }
      ]
    },
    {
      "cell_type": "markdown",
      "metadata": {
        "id": "JyXJ0dlUFeZj",
        "colab_type": "text"
      },
      "source": [
        "**Indexing, Slicing, and Matrixes**\n",
        "\n",
        "el resultado de indexar una lista es cualquier tipo de objeto que viva en el\n",
        "desplazamiento especificado, mientras que cortar una lista siempre devuelve una nueva lista:"
      ]
    },
    {
      "cell_type": "code",
      "metadata": {
        "id": "UMnlTZdPHQ8f",
        "colab_type": "code",
        "outputId": "54e35f04-273f-4756-d938-041628abccd8",
        "colab": {
          "base_uri": "https://localhost:8080/",
          "height": 34
        }
      },
      "source": [
        "empezar_de_cero=  l=['casa','arbol','ardilla']\n",
        "l[2]"
      ],
      "execution_count": 0,
      "outputs": [
        {
          "output_type": "execute_result",
          "data": {
            "text/plain": [
              "'ardilla'"
            ]
          },
          "metadata": {
            "tags": []
          },
          "execution_count": 63
        }
      ]
    },
    {
      "cell_type": "code",
      "metadata": {
        "id": "cGO8dXJ0IO4H",
        "colab_type": "code",
        "outputId": "aca2b001-4818-4752-c4d5-de9921a0bb38",
        "colab": {
          "base_uri": "https://localhost:8080/",
          "height": 34
        }
      },
      "source": [
        "negativo=l=['casa','arbol','ardilla']\n",
        "l [-0]\n"
      ],
      "execution_count": 0,
      "outputs": [
        {
          "output_type": "execute_result",
          "data": {
            "text/plain": [
              "'casa'"
            ]
          },
          "metadata": {
            "tags": []
          },
          "execution_count": 67
        }
      ]
    },
    {
      "cell_type": "code",
      "metadata": {
        "id": "5dHiYDWdI8EL",
        "colab_type": "code",
        "outputId": "72aff8bf-df35-4005-8f5b-a337b8ca4036",
        "colab": {
          "base_uri": "https://localhost:8080/",
          "height": 34
        }
      },
      "source": [
        "cortar_secciones= l=['casa','arbol','ardilla','comida']\n",
        "l[1:]\n"
      ],
      "execution_count": 0,
      "outputs": [
        {
          "output_type": "execute_result",
          "data": {
            "text/plain": [
              "['arbol', 'ardilla', 'comida']"
            ]
          },
          "metadata": {
            "tags": []
          },
          "execution_count": 69
        }
      ]
    },
    {
      "cell_type": "markdown",
      "metadata": {
        "id": "lAaN6akgKi3F",
        "colab_type": "text"
      },
      "source": [
        "con un indice obtengo una fila completa, y con dos obtengo un articulo dentro de la fila:"
      ]
    },
    {
      "cell_type": "code",
      "metadata": {
        "id": "VP97zVG2KtL0",
        "colab_type": "code",
        "outputId": "ba478a9e-e425-49db-9030-8044c43140e8",
        "colab": {
          "base_uri": "https://localhost:8080/",
          "height": 34
        }
      },
      "source": [
        "matrix=[[1,2,3],[7,8,9],[10,11,12]]\n",
        "matrix[2]\n"
      ],
      "execution_count": 0,
      "outputs": [
        {
          "output_type": "execute_result",
          "data": {
            "text/plain": [
              "[10, 11, 12]"
            ]
          },
          "metadata": {
            "tags": []
          },
          "execution_count": 73
        }
      ]
    },
    {
      "cell_type": "code",
      "metadata": {
        "id": "QFI3hzCfL6ri",
        "colab_type": "code",
        "outputId": "ea3fb65c-0d89-4594-b91f-578aa044f761",
        "colab": {
          "base_uri": "https://localhost:8080/",
          "height": 34
        }
      },
      "source": [
        "matrix[1][2]"
      ],
      "execution_count": 0,
      "outputs": [
        {
          "output_type": "execute_result",
          "data": {
            "text/plain": [
              "9"
            ]
          },
          "metadata": {
            "tags": []
          },
          "execution_count": 74
        }
      ]
    },
    {
      "cell_type": "markdown",
      "metadata": {
        "id": "dw4TfvwxMukL",
        "colab_type": "text"
      },
      "source": [
        "**Changing Lists in Place**\n",
        "\n",
        "\n",
        "\n",
        "*   Índice y asignaciones de sectores.\n",
        "\n",
        "puedo cambiar el contenido entre las secciones.\n",
        "\n",
        "\n",
        "\n",
        "\n",
        "\n"
      ]
    },
    {
      "cell_type": "code",
      "metadata": {
        "id": "FFgRBtNLNzeT",
        "colab_type": "code",
        "outputId": "4553c6be-c2f4-40d5-f5a9-6b6e42e4c22f",
        "colab": {
          "base_uri": "https://localhost:8080/",
          "height": 34
        }
      },
      "source": [
        "L=['azul','violeta','naranja','rojo']\n",
        "L[2]='rosado'\n",
        "L"
      ],
      "execution_count": 0,
      "outputs": [
        {
          "output_type": "execute_result",
          "data": {
            "text/plain": [
              "['azul', 'violeta', 'rosado', 'rojo']"
            ]
          },
          "metadata": {
            "tags": []
          },
          "execution_count": 77
        }
      ]
    },
    {
      "cell_type": "code",
      "metadata": {
        "id": "vohbHqsQU1oL",
        "colab_type": "code",
        "outputId": "11ab6f4f-5ba1-49a7-cc45-20c32897f92c",
        "colab": {
          "base_uri": "https://localhost:8080/",
          "height": 34
        }
      },
      "source": [
        " remplazamiento = l = [1,2,3,4,5]\n",
        " l[2:4]=[8,9]\n",
        " l"
      ],
      "execution_count": 0,
      "outputs": [
        {
          "output_type": "execute_result",
          "data": {
            "text/plain": [
              "[1, 2, 8, 9, 5]"
            ]
          },
          "metadata": {
            "tags": []
          },
          "execution_count": 81
        }
      ]
    },
    {
      "cell_type": "code",
      "metadata": {
        "id": "0CQeGIkgVpVb",
        "colab_type": "code",
        "outputId": "b559878c-a716-46a8-c4e3-30760439bd80",
        "colab": {
          "base_uri": "https://localhost:8080/",
          "height": 34
        }
      },
      "source": [
        "l[3:3]=[6,7,8]\n",
        "l"
      ],
      "execution_count": 0,
      "outputs": [
        {
          "output_type": "execute_result",
          "data": {
            "text/plain": [
              "[1, 2, 8, 6, 7, 8, 9, 5]"
            ]
          },
          "metadata": {
            "tags": []
          },
          "execution_count": 82
        }
      ]
    },
    {
      "cell_type": "code",
      "metadata": {
        "id": "-yJe49CdWWAz",
        "colab_type": "code",
        "outputId": "fa6ae9dc-f142-473c-a7b5-6d6e6bfea6f4",
        "colab": {
          "base_uri": "https://localhost:8080/",
          "height": 34
        }
      },
      "source": [
        "deletion=L[1:3]=[]\n",
        "l"
      ],
      "execution_count": 0,
      "outputs": [
        {
          "output_type": "execute_result",
          "data": {
            "text/plain": [
              "[1, 2, 8, 6, 7, 8, 9, 5]"
            ]
          },
          "metadata": {
            "tags": []
          },
          "execution_count": 83
        }
      ]
    },
    {
      "cell_type": "markdown",
      "metadata": {
        "id": "r5PYjY8wXTis",
        "colab_type": "text"
      },
      "source": [
        "esta operación puede usarse como una especie de concatenación\n",
        "al frente de la lista"
      ]
    },
    {
      "cell_type": "code",
      "metadata": {
        "id": "HAS7Gz1ZXsXo",
        "colab_type": "code",
        "outputId": "076af9c0-bceb-40be-9443-917ea8484f4f",
        "colab": {
          "base_uri": "https://localhost:8080/",
          "height": 34
        }
      },
      "source": [
        "poner_en_el_frente=L=[1,2]\n",
        "L[:0]=[-1,0]\n",
        "L"
      ],
      "execution_count": 0,
      "outputs": [
        {
          "output_type": "execute_result",
          "data": {
            "text/plain": [
              "[-1, 0, 1, 2]"
            ]
          },
          "metadata": {
            "tags": []
          },
          "execution_count": 89
        }
      ]
    },
    {
      "cell_type": "code",
      "metadata": {
        "id": "e-4SdA5SYm9G",
        "colab_type": "code",
        "outputId": "978bd030-5d9f-442c-b783-d5ca00550c7d",
        "colab": {
          "base_uri": "https://localhost:8080/",
          "height": 34
        }
      },
      "source": [
        "poner_despues=L[len(L):]=[3,4,5]\n",
        "L"
      ],
      "execution_count": 0,
      "outputs": [
        {
          "output_type": "execute_result",
          "data": {
            "text/plain": [
              "[-1, 0, 1, 2, 3, 4, 5]"
            ]
          },
          "metadata": {
            "tags": []
          },
          "execution_count": 88
        }
      ]
    },
    {
      "cell_type": "code",
      "metadata": {
        "id": "sw1p2MJ4Za-e",
        "colab_type": "code",
        "outputId": "fcd4c744-e3a8-4d19-860f-bc2f9e4f0df4",
        "colab": {
          "base_uri": "https://localhost:8080/",
          "height": 34
        }
      },
      "source": [
        "insertar_todo_al_final=L.extend([8,9,10])\n",
        "L"
      ],
      "execution_count": 0,
      "outputs": [
        {
          "output_type": "execute_result",
          "data": {
            "text/plain": [
              "[-1, 0, 1, 2, 8, 9, 10]"
            ]
          },
          "metadata": {
            "tags": []
          },
          "execution_count": 90
        }
      ]
    },
    {
      "cell_type": "markdown",
      "metadata": {
        "id": "hEBsvnk_aQPZ",
        "colab_type": "text"
      },
      "source": [
        "**List method calls**\n"
      ]
    },
    {
      "cell_type": "code",
      "metadata": {
        "id": "eMEmvGg5ahNk",
        "colab_type": "code",
        "colab": {}
      },
      "source": [
        "anexar=L=['rosa','amapola','orquidea']\n",
        "L.append('girasol')\n",
        "L"
      ],
      "execution_count": 0,
      "outputs": []
    },
    {
      "cell_type": "code",
      "metadata": {
        "id": "kkNZfR6G8h0n",
        "colab_type": "code",
        "colab": {}
      },
      "source": [
        "ordenar= L.sort()\n",
        "L"
      ],
      "execution_count": 0,
      "outputs": []
    },
    {
      "cell_type": "markdown",
      "metadata": {
        "id": "XzdwLhn39qdz",
        "colab_type": "text"
      },
      "source": [
        "**More on sorting lists**\n",
        "\n",
        "it uses Python standard\n",
        "comparison tests (here, string comparisons, but applicable to every object type) \n",
        "(para cambiar como se ordenan ):\n",
        "\n"
      ]
    },
    {
      "cell_type": "code",
      "metadata": {
        "id": "NGGUNYO89po9",
        "colab_type": "code",
        "colab": {}
      },
      "source": [
        "mayusculas_y_minusculas=  L=['kjdf','GHS','Hgf']\n",
        "L.sort()\n",
        "L"
      ],
      "execution_count": 0,
      "outputs": []
    },
    {
      "cell_type": "code",
      "metadata": {
        "id": "jwCF1d-mAAD4",
        "colab_type": "code",
        "colab": {}
      },
      "source": [
        "normalizacion_de_minusculas=L.sort(key=str.lower)\n",
        "L"
      ],
      "execution_count": 0,
      "outputs": []
    },
    {
      "cell_type": "code",
      "metadata": {
        "id": "4R4caJkpBVgE",
        "colab_type": "code",
        "colab": {}
      },
      "source": [
        "cambiar_orden_de_clasificacion= L.sort(key=str.lower, reverse=True)\n",
        "L"
      ],
      "execution_count": 0,
      "outputs": []
    },
    {
      "cell_type": "markdown",
      "metadata": {
        "id": "VD1jxo3yEJxD",
        "colab_type": "text"
      },
      "source": [
        "**Otros métodos de lista comunes**\n",
        "\n",
        "metodos que realizan operaciones especializadas.\n",
        "\n"
      ]
    },
    {
      "cell_type": "code",
      "metadata": {
        "id": "7k0PZqQzEVQu",
        "colab_type": "code",
        "outputId": "830566cf-2c66-4ef2-bfb2-ac4681ba47b8",
        "colab": {
          "base_uri": "https://localhost:8080/",
          "height": 34
        }
      },
      "source": [
        "agregar_muchos_articulos_al_final= L=[1,2,3]\n",
        "L.extend([4,5,6])\n",
        "L"
      ],
      "execution_count": 0,
      "outputs": [
        {
          "output_type": "execute_result",
          "data": {
            "text/plain": [
              "[1, 2, 3, 4, 5, 6]"
            ]
          },
          "metadata": {
            "tags": []
          },
          "execution_count": 28
        }
      ]
    },
    {
      "cell_type": "code",
      "metadata": {
        "id": "bPBoqTSnFS3t",
        "colab_type": "code",
        "colab": {}
      },
      "source": [
        "eliminar_y_devolver_el_ultimo_articulo= L.pop()\n",
        "L"
      ],
      "execution_count": 0,
      "outputs": []
    },
    {
      "cell_type": "code",
      "metadata": {
        "id": "xevYGk65FmhQ",
        "colab_type": "code",
        "colab": {}
      },
      "source": [
        "revesion_en_el_lugar= L.reverse()\n",
        "L"
      ],
      "execution_count": 0,
      "outputs": []
    },
    {
      "cell_type": "code",
      "metadata": {
        "id": "-W1RaOapGUAY",
        "colab_type": "code",
        "colab": {}
      },
      "source": [
        "reversion_incorporada_como_resultado= list(reversed(L))\n",
        "L"
      ],
      "execution_count": 0,
      "outputs": []
    },
    {
      "cell_type": "markdown",
      "metadata": {
        "id": "-pBqWb3qHu3m",
        "colab_type": "text"
      },
      "source": [
        "El final de la lista sirve como la parte superior de la pila:"
      ]
    },
    {
      "cell_type": "code",
      "metadata": {
        "id": "qb9KzIsPHMUM",
        "colab_type": "code",
        "colab": {}
      },
      "source": [
        "empuje_sobre_la_pila= L=[]\n",
        "L.append(1)\n",
        "L.append(3)\n",
        "L"
      ],
      "execution_count": 0,
      "outputs": []
    },
    {
      "cell_type": "code",
      "metadata": {
        "id": "ih7r57URIiqR",
        "colab_type": "code",
        "colab": {}
      },
      "source": [
        "pop_off_stack= L.pop()\n",
        "2\n",
        "L\n"
      ],
      "execution_count": 0,
      "outputs": []
    },
    {
      "cell_type": "markdown",
      "metadata": {
        "id": "X-JudenfKhV7",
        "colab_type": "text"
      },
      "source": [
        "**Other common list operations**\n"
      ]
    },
    {
      "cell_type": "code",
      "metadata": {
        "id": "tfBqcZ3zJFL-",
        "colab_type": "code",
        "outputId": "4d4eaa08-7036-46eb-e4e0-46932354f14b",
        "colab": {
          "base_uri": "https://localhost:8080/",
          "height": 34
        }
      },
      "source": [
        "eliminar_un_item= L=['perrros','pajaros','elefantes','jirafas']\n",
        "del L[2]\n",
        "L"
      ],
      "execution_count": 0,
      "outputs": [
        {
          "output_type": "execute_result",
          "data": {
            "text/plain": [
              "['perrros', 'pajaros', 'jirafas']"
            ]
          },
          "metadata": {
            "tags": []
          },
          "execution_count": 48
        }
      ]
    },
    {
      "cell_type": "code",
      "metadata": {
        "id": "Id1rdRzQL2eT",
        "colab_type": "code",
        "outputId": "2eb74845-8f4d-476b-952d-80b6a752ace0",
        "colab": {
          "base_uri": "https://localhost:8080/",
          "height": 129
        }
      },
      "source": [
        "del L[2:]\n",
        "L"
      ],
      "execution_count": 0,
      "outputs": [
        {
          "output_type": "error",
          "ename": "SyntaxError",
          "evalue": "ignored",
          "traceback": [
            "\u001b[0;36m  File \u001b[0;32m\"<ipython-input-60-d04aaa0a8271>\"\u001b[0;36m, line \u001b[0;32m1\u001b[0m\n\u001b[0;31m    del L[2:]=[]\u001b[0m\n\u001b[0m             ^\u001b[0m\n\u001b[0;31mSyntaxError\u001b[0m\u001b[0;31m:\u001b[0m invalid syntax\n"
          ]
        }
      ]
    },
    {
      "cell_type": "markdown",
      "metadata": {
        "id": "1TmUrP70OLam",
        "colab_type": "text"
      },
      "source": [
        "<h1>Dictionarios</h>\n",
        "\n",
        " los diccionarios son uno de los tipos de datos integrados más flexibles en Python.\n",
        "  a veces también hace el trabajo de registros, estructuras y tablas de símbolos utilizados en otros\n",
        "\n",
        "idiomas; se puede usar para representar estructuras de datos dispersas\n",
        "\n",
        "**operaciones basicas del deccionario**\n",
        "\n",
        "\n"
      ]
    },
    {
      "cell_type": "code",
      "metadata": {
        "id": "uSwrnu15RM_P",
        "colab_type": "code",
        "outputId": "816ee75a-44d8-421d-d440-1d534b5e38d8",
        "colab": {
          "base_uri": "https://localhost:8080/",
          "height": 34
        }
      },
      "source": [
        "Haz_un_diccionario= D= {'galletas':1,'pan':2,'donas':3}\n",
        "D ['pan']\n"
      ],
      "execution_count": 0,
      "outputs": [
        {
          "output_type": "execute_result",
          "data": {
            "text/plain": [
              "2"
            ]
          },
          "metadata": {
            "tags": []
          },
          "execution_count": 1
        }
      ]
    },
    {
      "cell_type": "code",
      "metadata": {
        "id": "sMG9y_RsNjwS",
        "colab_type": "code",
        "outputId": "30c3b790-34ea-44fb-aef8-2f3cf43aa7a4",
        "colab": {
          "base_uri": "https://localhost:8080/",
          "height": 34
        }
      },
      "source": [
        "D"
      ],
      "execution_count": 0,
      "outputs": [
        {
          "output_type": "execute_result",
          "data": {
            "text/plain": [
              "{'donas': 3, 'galletas': 1, 'pan': 2}"
            ]
          },
          "metadata": {
            "tags": []
          },
          "execution_count": 66
        }
      ]
    },
    {
      "cell_type": "markdown",
      "metadata": {
        "id": "wt7PxKNXSuuT",
        "colab_type": "text"
      },
      "source": [
        "otras funciones :\n",
        "\n",
        "\n",
        "\n",
        "*   numero de entradas en el diccionario \n",
        "\n",
        "\n"
      ]
    },
    {
      "cell_type": "code",
      "metadata": {
        "id": "-ygrzDCcTRFh",
        "colab_type": "code",
        "outputId": "eff616d1-85ec-4b16-dca8-e3cc34cf0548",
        "colab": {
          "base_uri": "https://localhost:8080/",
          "height": 34
        }
      },
      "source": [
        "len(D)"
      ],
      "execution_count": 0,
      "outputs": [
        {
          "output_type": "execute_result",
          "data": {
            "text/plain": [
              "3"
            ]
          },
          "metadata": {
            "tags": []
          },
          "execution_count": 70
        }
      ]
    },
    {
      "cell_type": "markdown",
      "metadata": {
        "id": "G1uja_VjUN8l",
        "colab_type": "text"
      },
      "source": [
        "\n",
        "\n",
        "*   Alternativa de prueba de membresía clave\n",
        "\n"
      ]
    },
    {
      "cell_type": "code",
      "metadata": {
        "id": "bbeUukt6UUfI",
        "colab_type": "code",
        "outputId": "5f40787e-ffc1-4c5c-a037-935789163e2f",
        "colab": {
          "base_uri": "https://localhost:8080/",
          "height": 34
        }
      },
      "source": [
        "'queque' in D"
      ],
      "execution_count": 0,
      "outputs": [
        {
          "output_type": "execute_result",
          "data": {
            "text/plain": [
              "False"
            ]
          },
          "metadata": {
            "tags": []
          },
          "execution_count": 72
        }
      ]
    },
    {
      "cell_type": "markdown",
      "metadata": {
        "id": "3TqI8ma0Ugb6",
        "colab_type": "text"
      },
      "source": [
        "\n",
        "\n",
        "*   Crea una nueva lista de claves de D\n",
        "\n"
      ]
    },
    {
      "cell_type": "code",
      "metadata": {
        "id": "HiviVh1kxGY7",
        "colab_type": "code",
        "colab": {}
      },
      "source": [
        "list(D())"
      ],
      "execution_count": 0,
      "outputs": []
    },
    {
      "cell_type": "markdown",
      "metadata": {
        "id": "y_wmxxglbPr8",
        "colab_type": "text"
      },
      "source": [
        "<h1>TUPLAS, ARCHIVOS Y TODO LO DEMAS\n",
        " \n",
        "\n",
        " **TUPLAS**\n",
        "\n",
        " Funcionan exactamente como listas, excepto que **las tuplas no se pueden cambiar en\n",
        "lugar** (son inmutables) y generalmente se escriben como una serie de elementos entre paréntesis,\n",
        "No corchetes. Aunque no admiten tantos métodos, las tuplas comparten la mayoría\n",
        "de sus propiedades con listas.\n",
        "\n",
        "\n",
        "\n",
        "*   Colecciones ordenadas de objetos arbitrarios\n",
        "\n",
        "as tuplas son colecciones de objetos ordenadas posicionalmente y se  le pueden incrustar cualquier tipo de objeto.\n",
        "*   Acceso por desplazamiento\n",
        "\n",
        "Igual que las cadenas y las listas, se accede a los elementos de una tupla por desplazamiento (no por clave); ellos\n",
        "Admite todas las operaciones de acceso basadas en desplazamiento, como la indexación y el segmentación.\n",
        "\n",
        "\n",
        "\n",
        "*   De la categoría \"secuencia inmutable\"\n",
        "\n",
        "las tuplas son secuencias pero **son inmutables** \n",
        "no admiten ninguno de los\n",
        "\n",
        "operaciones de cambio en el lugar aplicadas a las listas\n",
        "*   Longitud fija, heterogénea y arbitrariamente anidable\n",
        "\n",
        "Como son inmutables no puede cambiar el tamaño de una tupla sin hacer\n",
        "ing una copia. Por otro lado, las tuplas pueden contener cualquier tipo de objeto, incluidos otros objetos compuestos (por ejemplo, listas, diccionarios, otras tuplas) \n",
        "* Matrices de referencias a objetos\n",
        "\n",
        "las tuplas se consideran mejor como matrices de referencia de objeto; acceso a la tienda de tuplas\n",
        "apunta a otros objetos (referencias), e indexar una tupla es relativamente rápido.\n",
        "\n",
        "\n",
        "\n",
        " las tuplas no tienen todos los métodos que tienen las listas (p. ej., una llamada anexa no trabaja aquí). Sin embargo, admiten las operaciones de secuencia habituales.\n",
        "\n",
        "\n"
      ]
    },
    {
      "cell_type": "markdown",
      "metadata": {
        "id": "xtLBmKVNkEIT",
        "colab_type": "text"
      },
      "source": [
        "concatenacion:"
      ]
    },
    {
      "cell_type": "code",
      "metadata": {
        "id": "31ZBG3Afjqjd",
        "colab_type": "code",
        "colab": {}
      },
      "source": [
        " (2,3,4,5)+(2,3,4,5) "
      ],
      "execution_count": 0,
      "outputs": []
    },
    {
      "cell_type": "markdown",
      "metadata": {
        "id": "nhSKQxxOkIID",
        "colab_type": "text"
      },
      "source": [
        "repeticion"
      ]
    },
    {
      "cell_type": "code",
      "metadata": {
        "id": "HR7j2D7ckMb2",
        "colab_type": "code",
        "colab": {}
      },
      "source": [
        "(6,7,8)*3\n"
      ],
      "execution_count": 0,
      "outputs": []
    },
    {
      "cell_type": "markdown",
      "metadata": {
        "id": "2-vD0T_MkS2M",
        "colab_type": "text"
      },
      "source": [
        "corte"
      ]
    },
    {
      "cell_type": "code",
      "metadata": {
        "id": "2JHLw1jUkSd8",
        "colab_type": "code",
        "outputId": "208e33ab-945b-436d-8759-0cb779117487",
        "colab": {
          "base_uri": "https://localhost:8080/",
          "height": 34
        }
      },
      "source": [
        "T=(1,4,6,9,2)\n",
        "T[0],T[1:3]"
      ],
      "execution_count": 0,
      "outputs": [
        {
          "output_type": "execute_result",
          "data": {
            "text/plain": [
              "(1, (4, 6))"
            ]
          },
          "metadata": {
            "tags": []
          },
          "execution_count": 5
        }
      ]
    },
    {
      "cell_type": "markdown",
      "metadata": {
        "id": "bayczGJAn7_I",
        "colab_type": "text"
      },
      "source": [
        "**Curiosidades de sintaxis de tupla: comas y paréntesis**\n",
        "\n",
        "\n",
        "los paréntesis también pueden encerrar expresiones entonces necesita hacer algo\n",
        "especial para decirle a Python cuando un solo objeto entre paréntesis es un objeto de tupla y no una expresión simple. \n",
        "\n",
        "Si realmente desea una tupla de un solo elemento, simplemente agregue una coma final\n",
        "después del elemento individual, antes del paréntesis de cierre."
      ]
    },
    {
      "cell_type": "code",
      "metadata": {
        "id": "56SfgL5lo5DI",
        "colab_type": "code",
        "outputId": "eb1f4480-6d35-4005-f9fb-96c21b251e4f",
        "colab": {
          "base_uri": "https://localhost:8080/",
          "height": 34
        }
      },
      "source": [
        "un_entero= x=(40)\n",
        "x"
      ],
      "execution_count": 0,
      "outputs": [
        {
          "output_type": "execute_result",
          "data": {
            "text/plain": [
              "40"
            ]
          },
          "metadata": {
            "tags": []
          },
          "execution_count": 7
        }
      ]
    },
    {
      "cell_type": "code",
      "metadata": {
        "id": "9IghVsfXpMG8",
        "colab_type": "code",
        "outputId": "925ed10c-d55f-4fb8-86ae-a70d2785722e",
        "colab": {
          "base_uri": "https://localhost:8080/",
          "height": 34
        }
      },
      "source": [
        "una_tupla_que_contiene_un_entero= x=(40,)\n",
        "x"
      ],
      "execution_count": 0,
      "outputs": [
        {
          "output_type": "execute_result",
          "data": {
            "text/plain": [
              "(40,)"
            ]
          },
          "metadata": {
            "tags": []
          },
          "execution_count": 8
        }
      ]
    },
    {
      "cell_type": "markdown",
      "metadata": {
        "id": "nvHuoqqKp1h9",
        "colab_type": "text"
      },
      "source": [
        "* No siempre es necesario usar los parentesis, ya que usar comas me ayuda a definir que son tuplas.\n",
        "\n",
        "Los lugares más comunes donde los paréntesis\n",
        "son necesarios para tuples literales son aquellos donde:\n",
        "\n",
        "**Los paréntesis son importantes**: dentro de una llamada de función, o anidados en una expresión más grande.\n",
        "\n",
        "\n",
        "**Las comas importan**: incrustadas en el literal de una estructura de datos más grande como una lista o\n",
        "diccionario, o aparece en una declaración de impresión Python 2.X.\n",
        "\n",
        "**Conversiones, métodos e inmutabilidad.**\n",
        "\n",
        "\n",
        "las operaciones de tupla son idénticos a las operaciones de cadena y lista. Las únicas diferencias que vale la pena señalar son que\n",
        "las operaciones +, * y segmentación devuelven nuevas tuplas cuando se aplican a las tuplas.\n",
        "\n",
        "\n",
        "**para ordenar** una tupla, por ejemplo, generalmente tendrá que convertirla primero en una lista para obtener\n",
        "acceder a una llamada al método de clasificación y convertirlo en un objeto mutable, o usar el más nuevo ordenado\n",
        "incorporado que acepta cualquier objeto de secuencia "
      ]
    },
    {
      "cell_type": "code",
      "metadata": {
        "id": "RaWbdq7ssv8m",
        "colab_type": "code",
        "colab": {}
      },
      "source": [
        "HACER_UNA_LISTA_DELOSARTICULOSDEUNATUPLA= T=('A','C','B','G','F')\n",
        "tmp=list(T)\n",
        "tmp.sort()\n",
        "tmp"
      ],
      "execution_count": 0,
      "outputs": []
    },
    {
      "cell_type": "code",
      "metadata": {
        "id": "BBZYhoUVuMdg",
        "colab_type": "code",
        "colab": {}
      },
      "source": [
        "hacer_una_tupla_apartir_de_los_elementos_de_la_lista= T=tuple(tmp)\n",
        "T"
      ],
      "execution_count": 0,
      "outputs": []
    },
    {
      "cell_type": "code",
      "metadata": {
        "id": "wylAoX07ujuK",
        "colab_type": "code",
        "colab": {}
      },
      "source": [
        "o_use_el_ordenado_incorporado_y_guarde_dos_pasos= sorted(T)\n",
        "T\n"
      ],
      "execution_count": 0,
      "outputs": []
    },
    {
      "cell_type": "markdown",
      "metadata": {
        "id": "Tjx5_ZwEu5KK",
        "colab_type": "text"
      },
      "source": [
        "**Las COMPRENSIONES DE LISTA también se pueden usar para convertir tuplas.**\n",
        "\n",
        "\n",
        "Las comprensiones de listas son realmente operaciones de secuencia, siempre crean nuevas listas, pero\n",
        "se pueden usar para iterar sobre cualquier objeto de secuencia, incluidas tuplas, cadenas y\n",
        "otras listas"
      ]
    },
    {
      "cell_type": "code",
      "metadata": {
        "id": "MBza7K-LwFNG",
        "colab_type": "code",
        "colab": {}
      },
      "source": [
        "T=(3,4,8,9)\n",
        "L=[x + 30 for x in T]\n",
        "L"
      ],
      "execution_count": 0,
      "outputs": []
    },
    {
      "cell_type": "markdown",
      "metadata": {
        "id": "s2vTLJSXxtzS",
        "colab_type": "text"
      },
      "source": [
        "Como regla general, las listas son la herramienta de elección para colecciones ordenadas que podrían\n",
        "necesidad de cambio; Las tuplas pueden manejar los otros casos de **asociaciones fijas.**\n",
        "\n",
        "\n",
        "**Registros revisitados: tuplas nombradas**"
      ]
    },
    {
      "cell_type": "code",
      "metadata": {
        "id": "8dCBgZL4ynz6",
        "colab_type": "code",
        "outputId": "0156fed7-d238-479e-cb08-e7dba3faeec9",
        "colab": {
          "base_uri": "https://localhost:8080/",
          "height": 34
        }
      },
      "source": [
        "REGISTRO_DE_LA_TUPLA= Bob=('bob',36,['prof.','pol'])\n",
        "Bob\n"
      ],
      "execution_count": 0,
      "outputs": [
        {
          "output_type": "execute_result",
          "data": {
            "text/plain": [
              "('bob', 36, ['prof.', 'pol'])"
            ]
          },
          "metadata": {
            "tags": []
          },
          "execution_count": 40
        }
      ]
    },
    {
      "cell_type": "markdown",
      "metadata": {
        "id": "JTnEtgB-zmOH",
        "colab_type": "text"
      },
      "source": [
        "acceso por puesto:"
      ]
    },
    {
      "cell_type": "code",
      "metadata": {
        "id": "JThlVxO7zNu3",
        "colab_type": "code",
        "colab": {}
      },
      "source": [
        "Bob[1],Bob[2]"
      ],
      "execution_count": 0,
      "outputs": []
    },
    {
      "cell_type": "markdown",
      "metadata": {
        "id": "0iLMB2SczxTF",
        "colab_type": "text"
      },
      "source": [
        "Sin embargo, en cuanto a las listas, los números de campo en las tuplas generalmente contienen menos información que\n",
        "nombres de claves en un diccionario. Aquí está el mismo registro recodificado que un diccionario con\n",
        "campos con nombre:"
      ]
    },
    {
      "cell_type": "code",
      "metadata": {
        "id": "aa3qWxqxynwt",
        "colab_type": "code",
        "colab": {}
      },
      "source": [
        "registro_de_diccionario= bob=dict(nombre='bob', edad='36', trabajo=['profesor','policia'])\n",
        "bob"
      ],
      "execution_count": 0,
      "outputs": []
    },
    {
      "cell_type": "code",
      "metadata": {
        "id": "b3qdVyrU0Y1d",
        "colab_type": "code",
        "colab": {}
      },
      "source": [
        " bob['edad'],bob['trabajo']"
      ],
      "execution_count": 0,
      "outputs": []
    },
    {
      "cell_type": "markdown",
      "metadata": {
        "id": "gMpFVQYI1PSe",
        "colab_type": "text"
      },
      "source": [
        "podemos convertir partes del diccionario en una tupla si es necesario:"
      ]
    },
    {
      "cell_type": "code",
      "metadata": {
        "id": "d9CKLNI_1QaK",
        "colab_type": "code",
        "colab": {}
      },
      "source": [
        "list(bob.items())\n"
      ],
      "execution_count": 0,
      "outputs": []
    },
    {
      "cell_type": "markdown",
      "metadata": {
        "id": "Un9sUuxJ9MwS",
        "colab_type": "text"
      },
      "source": [
        "**una alternativa para dict**\n",
        "\n",
        "\n",
        "dict equivalente (pero el orden puede variar)"
      ]
    },
    {
      "cell_type": "code",
      "metadata": {
        "id": "lTT3_82655r4",
        "colab_type": "code",
        "colab": {}
      },
      "source": [
        "bob={'nombre':'bob', 'edad':'36', 'trabajo':['profesor','policia']}\n",
        "nombre,edad,trabajo=bob.values()\n",
        "edad"
      ],
      "execution_count": 0,
      "outputs": []
    },
    {
      "cell_type": "markdown",
      "metadata": {
        "id": "gahBRW45_IQb",
        "colab_type": "text"
      },
      "source": [
        "Paso a través de claves, valores de índice"
      ]
    },
    {
      "cell_type": "code",
      "metadata": {
        "id": "vM5SOord_JUL",
        "colab_type": "code",
        "outputId": "f6dd344e-4225-4c2c-b36e-466caa459847",
        "colab": {
          "base_uri": "https://localhost:8080/",
          "height": 70
        }
      },
      "source": [
        "for x in bob: print(bob[x])"
      ],
      "execution_count": 0,
      "outputs": [
        {
          "output_type": "stream",
          "text": [
            "bob\n",
            "36\n",
            "['profesor', 'policia']\n"
          ],
          "name": "stdout"
        }
      ]
    },
    {
      "cell_type": "markdown",
      "metadata": {
        "id": "Bc8u4ZPA_mgh",
        "colab_type": "text"
      },
      "source": [
        "Recorrer la vista de valores"
      ]
    },
    {
      "cell_type": "code",
      "metadata": {
        "id": "bAlpISfc_oTR",
        "colab_type": "code",
        "outputId": "6dae7e82-4f49-4230-ab18-fb163ee7d1a1",
        "colab": {
          "base_uri": "https://localhost:8080/",
          "height": 70
        }
      },
      "source": [
        "for x in bob.values(): print(x)"
      ],
      "execution_count": 0,
      "outputs": [
        {
          "output_type": "stream",
          "text": [
            "bob\n",
            "36\n",
            "['profesor', 'policia']\n"
          ],
          "name": "stdout"
        }
      ]
    },
    {
      "cell_type": "markdown",
      "metadata": {
        "id": "NDzCKGLDAYTj",
        "colab_type": "text"
      },
      "source": [
        "**ARCHIVOS**\n",
        "\n",
        "la función abierta incorporada crea un objeto de archivo Python, que **sirve como un enlace**\n",
        "a un archivo que reside en su máquina. Después de abrir, puede transferir cadenas de datos.\n",
        "hacia y desde el archivo externo asociado llamando a los métodos del objeto de archivo devuelto.\n",
        "\n",
        "los objetos de archivo son algo inusuales. Son\n",
        "considerado un tipo de **núcleo** porque son creados por una función incorporada, pero no son\n",
        "números, secuencias o mapeos, y no responden a operadores de expresión;\n",
        "solo exportan métodos para tareas comunes de procesamiento de archivos\n",
        "\n",
        "**abriendo archivos**\n",
        "\n",
        "Para abrir un archivo, un programa llama a la función abierta incorporada, con el nombre de archivo externo\n",
        "primero, seguido de un modo de procesamiento. La llamada devuelve un objeto de archivo, que a su vez tiene\n",
        "métodos para la transferencia de datos:\n",
        "afile = abierto (nombre de archivo, modo)\n",
        "afile.method ()\n",
        "\n",
        "\n",
        "\n",
        "El segundo argumento para abrir, modo de procesamiento, es típicamente la cadena 'r' para abrir\n",
        "entrada de texto (el valor predeterminado), 'w' para crear y abrir para salida de texto, o 'a' para abrir para\n",
        "agregar texto al final (por ejemplo, para agregar a los archivos de registro). El argumento del modo de procesamiento\n",
        "puede especificar opciones adicionales:\n",
        "\n",
        "\n",
        "Agregar una b a la cadena de modo permite datos binarios\n",
        "\n",
        "Agregar un + abre el archivo tanto para la entrada como para la salida (es decir, puede leer y\n",
        "escribir en el mismo objeto de archivo, a menudo junto con operaciones de búsqueda para reposicionar\n",
        "en el archivo).\n",
        "\n",
        " **uso fundamentales:**\n",
        "\n",
        "\n",
        " no siempre necesita cerrar manualmente sus archivos en Python estándar, especialmente\n",
        "aquellos en scripts simples con tiempos de ejecución cortos y archivos temporales utilizados por un solo\n",
        "línea o expresión\n",
        "Por otro lado, incluir llamadas de cierre manual no hace daño, y puede ser una buena opción no siempre necesita cerrar manualmente sus archivos en Python estándar, especialmente\n",
        "aquellos en scripts simples con tiempos de ejecución cortos y archivos temporales utilizados por un solo\n",
        "línea o expresión\n",
        "Por otro lado, incluir llamadas de cierre manual no hace daño, y puede ser una buena opción. no siempre necesita cerrar manualmente sus archivos en Python estándar, especialmente\n",
        "aquellos en scripts simples con tiempos de ejecución cortos y archivos temporales utilizados por un solo\n",
        "línea o expresión\n",
        "Por otro lado, incluir llamadas de cierre manual no hace daño, y puede ser una buena opción especialmente en sistemas de larga duración. \n",
        "\n",
        "**ARCHIVOS EN ACCION**\n",
        "\n",
        "abierto_para_la_salida_de_texto_crear_/vacio=\n",
        "\n",
        "\n"
      ]
    },
    {
      "cell_type": "code",
      "metadata": {
        "id": "jvlNPsU4IQh2",
        "colab_type": "code",
        "colab": {
          "base_uri": "https://localhost:8080/",
          "height": 34
        },
        "outputId": "136da10c-942f-4a66-9d34-7432f1558e8d"
      },
      "source": [
        "mifamilia=open('mifamilia.txt','w')\n",
        "mifamilia.write('mis hermanos')"
      ],
      "execution_count": 49,
      "outputs": [
        {
          "output_type": "execute_result",
          "data": {
            "text/plain": [
              "12"
            ]
          },
          "metadata": {
            "tags": []
          },
          "execution_count": 49
        }
      ]
    },
    {
      "cell_type": "code",
      "metadata": {
        "id": "HvBRkkA3uV2i",
        "colab_type": "code",
        "colab": {
          "base_uri": "https://localhost:8080/",
          "height": 34
        },
        "outputId": "2be5192c-67bd-4d49-8026-3ed5e1d13881"
      },
      "source": [
        "mifamilia.write('mis padres text')\n"
      ],
      "execution_count": 45,
      "outputs": [
        {
          "output_type": "execute_result",
          "data": {
            "text/plain": [
              "15"
            ]
          },
          "metadata": {
            "tags": []
          },
          "execution_count": 45
        }
      ]
    },
    {
      "cell_type": "code",
      "metadata": {
        "id": "C_wqTarOvpbe",
        "colab_type": "code",
        "colab": {}
      },
      "source": [
        "mifamilia.close()"
      ],
      "execution_count": 0,
      "outputs": []
    },
    {
      "cell_type": "code",
      "metadata": {
        "id": "0sKlCkGnu50a",
        "colab_type": "code",
        "colab": {
          "base_uri": "https://localhost:8080/",
          "height": 34
        },
        "outputId": "f9f18e47-b0b8-452d-dd88-23907bdc97d9"
      },
      "source": [
        "\n",
        "mifamilia=open('mifamilia.txt')\n",
        "mifamilia.readline()\n"
      ],
      "execution_count": 47,
      "outputs": [
        {
          "output_type": "execute_result",
          "data": {
            "text/plain": [
              "'mis hermanosmis padres text'"
            ]
          },
          "metadata": {
            "tags": []
          },
          "execution_count": 47
        }
      ]
    },
    {
      "cell_type": "markdown",
      "metadata": {
        "id": "017ZCDXxr-SO",
        "colab_type": "text"
      },
      "source": [
        "Si desea mostrar el contenido del archivo con caracteres de fin de línea interpretados, lea\n",
        "todo el archivo en una cadena de una vez con el método de lectura del objeto de archivo e imprímalo:"
      ]
    },
    {
      "cell_type": "code",
      "metadata": {
        "id": "c_0-3xaGq7Bc",
        "colab_type": "code",
        "colab": {
          "base_uri": "https://localhost:8080/",
          "height": 34
        },
        "outputId": "87470550-389e-4bfa-d615-4afcd10c7b5d"
      },
      "source": [
        "open('mifamilia.txt').read()\n"
      ],
      "execution_count": 35,
      "outputs": [
        {
          "output_type": "execute_result",
          "data": {
            "text/plain": [
              "'mis hermanos text file/nmis padres text file/n'"
            ]
          },
          "metadata": {
            "tags": []
          },
          "execution_count": 35
        }
      ]
    },
    {
      "cell_type": "code",
      "metadata": {
        "id": "lzsiXpThwla4",
        "colab_type": "code",
        "colab": {}
      },
      "source": [
        "print(open('mifamilia.txt').read())"
      ],
      "execution_count": 0,
      "outputs": []
    },
    {
      "cell_type": "code",
      "metadata": {
        "id": "eM5Icfgr2E1U",
        "colab_type": "code",
        "colab": {}
      },
      "source": [
        "\n",
        "data=open('data','rb').read()\n",
        "data"
      ],
      "execution_count": 0,
      "outputs": []
    },
    {
      "cell_type": "markdown",
      "metadata": {
        "id": "tO-iv8A83xlA",
        "colab_type": "text"
      },
      "source": [
        "**Almacenar objetos de Python en archivos:**\n"
      ]
    },
    {
      "cell_type": "code",
      "metadata": {
        "id": "uBZ5NpIp2TbY",
        "colab_type": "code",
        "colab": {}
      },
      "source": [
        "#objetos nativos de python \n",
        "X,Y,Z=43,44,45\n",
        "#hacer cadenas para almacenar el archivo\n",
        "S='Spam'\n",
        "D={'a':1,'b':2,'c':3}\n",
        "L=[1,2,3]\n"
      ],
      "execution_count": 0,
      "outputs": []
    },
    {
      "cell_type": "code",
      "metadata": {
        "id": "EXtZZQ2ED-nQ",
        "colab_type": "code",
        "colab": {}
      },
      "source": [
        "#crear archivo de texto de salida \n",
        "F = open('datafile.txt','w')\n",
        "F.write(S +'\\n')"
      ],
      "execution_count": 0,
      "outputs": []
    },
    {
      "cell_type": "code",
      "metadata": {
        "id": "OXdaI7jU_3yo",
        "colab_type": "code",
        "colab": {}
      },
      "source": [
        "\n",
        "#convertir numeros a cadenas \n",
        "F.write('%s,%s,%s \\n'%(X,Y,Z))\n",
        "F.write (str (L) + '$' + str (D) + '\\ n') \n",
        "F.close()"
      ],
      "execution_count": 0,
      "outputs": []
    },
    {
      "cell_type": "code",
      "metadata": {
        "id": "CTVX20T_CKg7",
        "colab_type": "code",
        "colab": {}
      },
      "source": [
        "# Visualización de cadena sin formatochar\n",
        "chars=open('datafiles.txt').read\n",
        "chars"
      ],
      "execution_count": 0,
      "outputs": []
    },
    {
      "cell_type": "markdown",
      "metadata": {
        "id": "a-znvWiwIkvy",
        "colab_type": "text"
      },
      "source": [
        "\n",
        "**Almacenamiento de objetos nativos de Python: pickle**\n",
        "\n",
        "una herramienta más avanzada que nos permite almacenar casi cualquier objeto de python en un archivo directamente, sin necesidad de conversión de cadena a o desde cadena de nuestra parte.\n",
        "\n",
        "un ejemplo de esto:\n",
        "\n",
        "Para almacenar un diccionario en un\n",
        "archivo, lo encurtimos directamente:"
      ]
    },
    {
      "cell_type": "code",
      "metadata": {
        "id": "lVRW8HW3JGF2",
        "colab_type": "code",
        "colab": {}
      },
      "source": [
        "D = {'a': 1, 'b': 2}\n",
        "F = open('datafile.pkl', 'wb')\n",
        "import pickle\n",
        "pickle.dump(D, F)\n",
        "F.close()"
      ],
      "execution_count": 0,
      "outputs": []
    },
    {
      "cell_type": "code",
      "metadata": {
        "id": "WdzWJ5pmCdsI",
        "colab_type": "code",
        "colab": {}
      },
      "source": [
        "F = open('datafile.pkl', 'rb')\n",
        "E = pickle.load(F)\n",
        "E"
      ],
      "execution_count": 0,
      "outputs": []
    }
  ]
}